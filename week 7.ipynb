{
  "nbformat": 4,
  "nbformat_minor": 0,
  "metadata": {
    "colab": {
      "provenance": [],
      "authorship_tag": "ABX9TyN15neDWj8jJ+ysqBl0wh5H",
      "include_colab_link": true
    },
    "kernelspec": {
      "name": "python3",
      "display_name": "Python 3"
    },
    "language_info": {
      "name": "python"
    }
  },
  "cells": [
    {
      "cell_type": "markdown",
      "metadata": {
        "id": "view-in-github",
        "colab_type": "text"
      },
      "source": [
        "<a href=\"https://colab.research.google.com/github/kishore6302/CN7030-2425-Machine-Learning-on-Big-Data-/blob/main/week%207.ipynb\" target=\"_parent\"><img src=\"https://colab.research.google.com/assets/colab-badge.svg\" alt=\"Open In Colab\"/></a>"
      ]
    },
    {
      "cell_type": "code",
      "execution_count": 1,
      "metadata": {
        "colab": {
          "base_uri": "https://localhost:8080/"
        },
        "id": "xaffKX5RqE8F",
        "outputId": "ecbda124-c57d-418d-d8a6-63cd20be9d1b"
      },
      "outputs": [
        {
          "output_type": "stream",
          "name": "stdout",
          "text": [
            "Requirement already satisfied: pyspark in /usr/local/lib/python3.11/dist-packages (3.5.1)\n",
            "Requirement already satisfied: py4j==0.10.9.7 in /usr/local/lib/python3.11/dist-packages (from pyspark) (0.10.9.7)\n"
          ]
        }
      ],
      "source": [
        "!pip install pyspark"
      ]
    },
    {
      "cell_type": "code",
      "source": [
        "!pip install pyspark nltk"
      ],
      "metadata": {
        "colab": {
          "base_uri": "https://localhost:8080/"
        },
        "id": "GrwAevagqSQb",
        "outputId": "e0325ff3-28e6-4f13-ee39-9b060ee819d9"
      },
      "execution_count": 2,
      "outputs": [
        {
          "output_type": "stream",
          "name": "stdout",
          "text": [
            "Requirement already satisfied: pyspark in /usr/local/lib/python3.11/dist-packages (3.5.1)\n",
            "Requirement already satisfied: nltk in /usr/local/lib/python3.11/dist-packages (3.9.1)\n",
            "Requirement already satisfied: py4j==0.10.9.7 in /usr/local/lib/python3.11/dist-packages (from pyspark) (0.10.9.7)\n",
            "Requirement already satisfied: click in /usr/local/lib/python3.11/dist-packages (from nltk) (8.2.1)\n",
            "Requirement already satisfied: joblib in /usr/local/lib/python3.11/dist-packages (from nltk) (1.5.1)\n",
            "Requirement already satisfied: regex>=2021.8.3 in /usr/local/lib/python3.11/dist-packages (from nltk) (2024.11.6)\n",
            "Requirement already satisfied: tqdm in /usr/local/lib/python3.11/dist-packages (from nltk) (4.67.1)\n"
          ]
        }
      ]
    },
    {
      "cell_type": "code",
      "source": [
        "import nltk\n",
        "nltk.download('wordnet')\n",
        "nltk.download('omw-1.4')"
      ],
      "metadata": {
        "colab": {
          "base_uri": "https://localhost:8080/"
        },
        "id": "likOzVfZqYyx",
        "outputId": "0b8c9946-f97b-4150-84b6-83750456a608"
      },
      "execution_count": 3,
      "outputs": [
        {
          "output_type": "stream",
          "name": "stderr",
          "text": [
            "[nltk_data] Downloading package wordnet to /root/nltk_data...\n",
            "[nltk_data] Downloading package omw-1.4 to /root/nltk_data...\n"
          ]
        },
        {
          "output_type": "execute_result",
          "data": {
            "text/plain": [
              "True"
            ]
          },
          "metadata": {},
          "execution_count": 3
        }
      ]
    },
    {
      "cell_type": "code",
      "source": [
        "# Import necessary PySpark modules\n",
        "from pyspark.sql import SparkSession\n",
        "from pyspark.sql.functions import col\n",
        "from pyspark.ml.feature import Tokenizer, StopWordsRemover, HashingTF, IDF\n",
        "from pyspark.ml.classification import LogisticRegression\n",
        "from pyspark.ml import Pipeline\n",
        "from pyspark.ml.feature import StringIndexer\n",
        "from pyspark.ml.evaluation import MulticlassClassificationEvaluator"
      ],
      "metadata": {
        "id": "WCQtljxDqe9i"
      },
      "execution_count": 4,
      "outputs": []
    },
    {
      "cell_type": "code",
      "source": [
        "#Import NLP Libraries for Stemming & Lemmatization\n",
        "from pyspark.sql.functions import udf\n",
        "from pyspark.sql.types import ArrayType, StringType\n",
        "from nltk.stem import PorterStemmer, WordNetLemmatizer"
      ],
      "metadata": {
        "id": "AaMMR2NzqlJZ"
      },
      "execution_count": 5,
      "outputs": []
    },
    {
      "cell_type": "code",
      "source": [
        "#Define UDFs for Stemming & Lemmatization\n",
        "# Initialize Stemmer and Lemmatizer\n",
        "stemmer = PorterStemmer()\n",
        "lemmatizer = WordNetLemmatizer()\n",
        "\n",
        "# Define UDF for Stemming\n",
        "def stem_words(words):\n",
        "    return [stemmer.stem(word) for word in words]\n",
        "\n",
        "# Define UDF for Lemmatization\n",
        "def lemmatize_words(words):\n",
        "    return [lemmatizer.lemmatize(word) for word in words]\n",
        "\n",
        "# Convert Python functions to PySpark UDFs\n",
        "stem_udf = udf(stem_words, ArrayType(StringType()))\n",
        "lemma_udf = udf(lemmatize_words, ArrayType(StringType()))"
      ],
      "metadata": {
        "id": "t4h7fKQnqomq"
      },
      "execution_count": 6,
      "outputs": []
    },
    {
      "cell_type": "code",
      "source": [
        "# Create a Spark session\n",
        "spark = SparkSession.builder.appName(\"DocumentClassificationTFIDF\").getOrCreate()"
      ],
      "metadata": {
        "id": "a6LkiEdqqsaZ"
      },
      "execution_count": 7,
      "outputs": []
    },
    {
      "cell_type": "code",
      "source": [
        "# Load & Preprocess Data (Tokenization, Stopword Removal, Stemming, Lemmatization)\n",
        "# Sample dataset\n",
        "data = [(0,\"Cloud computing is becoming increasingly important for businesses\",\"Technology\"),\n",
        " (1, \"Basketball players are preparing for the next tournament\", \"Sports\"),\n",
        " (2,\"Machine learning has revolutionized the way data is processed\",\"Technology\"),\n",
        " (3, \"Political campaigns are gearing up for the upcoming elections\",\"Politics\"),\n",
        " (4, \"The football team has been training hard for the upcoming season\", \"Sports\"),\n",
        " (5,\"International relations are being discussed in diplomatic meetings\",\"Politics\"),\n",
        " (6, \"The president addressed the nation in a live broadcast\", \"Politics\"),\n",
        " (7, \"Tennis players are practicing for the grand slam matches\", \"Sports\"),\n",
        " (8,\"Machine learning has revolutionized the way data is processed\",\"Technology\"),\n",
        " (9, \"Stock trading has become a popular way to build wealth\", \"Finance\"),\n",
        " (10, \"5G technology is expected to significantly improve communication speeds\",\"Technology\"),\n",
        " (11,\"Political campaigns are gearing up for the upcoming elections\",\"Politics\"),\n",
        " (12,\n",
        "  \"Machine learning has revolutionized the way data is processed\",\n",
        "  \"Technology\"),\n",
        " (13,\n",
        "  \"Investors are looking for high-yield bonds in the current market\",\n",
        "  \"Finance\"),\n",
        " (14,\n",
        "  \"Quantum computing holds promise for solving complex problems\",\n",
        "  \"Technology\"),\n",
        " (15,\n",
        "  \"Cloud computing is becoming increasingly important for businesses\",\n",
        "  \"Technology\"),\n",
        " (16, \"The Formula 1 race track is set to host the next grand prix\", \"Sports\"),\n",
        " (17,\n",
        "  \"Financial experts are advising on diversifying investment portfolios\",\n",
        "  \"Finance\"),\n",
        " (18, \"Stock trading has become a popular way to build wealth\", \"Finance\"),\n",
        " (19, \"Stock trading has become a popular way to build wealth\", \"Finance\"),\n",
        " (20,\n",
        "  \"International relations are being discussed in diplomatic meetings\",\n",
        "  \"Politics\"),\n",
        " (21, \"The Formula 1 race track is set to host the next grand prix\", \"Sports\"),\n",
        " (22,\n",
        "  \"Political campaigns are gearing up for the upcoming elections\",\n",
        "  \"Politics\"),\n",
        " (23,\n",
        "  \"Machine learning has revolutionized the way data is processed\",\n",
        "  \"Technology\"),\n",
        " (24,\n",
        "  \"The football team has been training hard for the upcoming season\",\n",
        "  \"Sports\"),\n",
        " (25, \"Tennis players are practicing for the grand slam matches\", \"Sports\"),\n",
        " (26, \"Tennis players are practicing for the grand slam matches\", \"Sports\"),\n",
        " (27,\n",
        "  \"Political campaigns are gearing up for the upcoming elections\",\n",
        "  \"Politics\"),\n",
        " (28,\n",
        "  \"The real estate market has seen significant growth in the past decade\",\n",
        "  \"Finance\"),\n",
        " (29,\n",
        "  \"Financial experts are advising on diversifying investment portfolios\",\n",
        "  \"Finance\")]\n",
        "df = spark.createDataFrame(data, [\"id\", \"text\", \"category\"])\n",
        "\n",
        "# Tokenization\n",
        "tokenizer = Tokenizer(inputCol=\"text\", outputCol=\"words\")\n",
        "df = tokenizer.transform(df)\n",
        "\n",
        "# Stopword Removal\n",
        "remover = StopWordsRemover(inputCol=\"words\", outputCol=\"filtered_words\")\n",
        "df = remover.transform(df)\n",
        "\n",
        "# Apply Stemming\n",
        "df = df.withColumn(\"stemmed_words\", stem_udf(col(\"filtered_words\")))\n",
        "\n",
        "# Apply Lemmatization\n",
        "df = df.withColumn(\"lemmatized_words\", lemma_udf(col(\"filtered_words\")))\n",
        "\n",
        "# Show Results\n",
        "df.select(\"text\", \"filtered_words\", \"stemmed_words\", \"lemmatized_words\").show(truncate=False)"
      ],
      "metadata": {
        "colab": {
          "base_uri": "https://localhost:8080/"
        },
        "id": "gQsIeCw4qxny",
        "outputId": "5cd49364-4ad3-4785-f4f9-1ff78bf979f5"
      },
      "execution_count": 8,
      "outputs": [
        {
          "output_type": "stream",
          "name": "stdout",
          "text": [
            "+-----------------------------------------------------------------------+-------------------------------------------------------------------------+-------------------------------------------------------------+------------------------------------------------------------------------+\n",
            "|text                                                                   |filtered_words                                                           |stemmed_words                                                |lemmatized_words                                                        |\n",
            "+-----------------------------------------------------------------------+-------------------------------------------------------------------------+-------------------------------------------------------------+------------------------------------------------------------------------+\n",
            "|Cloud computing is becoming increasingly important for businesses      |[cloud, computing, becoming, increasingly, important, businesses]        |[cloud, comput, becom, increasingli, import, busi]           |[cloud, computing, becoming, increasingly, important, business]         |\n",
            "|Basketball players are preparing for the next tournament               |[basketball, players, preparing, next, tournament]                       |[basketbal, player, prepar, next, tournament]                |[basketball, player, preparing, next, tournament]                       |\n",
            "|Machine learning has revolutionized the way data is processed          |[machine, learning, revolutionized, way, data, processed]                |[machin, learn, revolution, way, data, process]              |[machine, learning, revolutionized, way, data, processed]               |\n",
            "|Political campaigns are gearing up for the upcoming elections          |[political, campaigns, gearing, upcoming, elections]                     |[polit, campaign, gear, upcom, elect]                        |[political, campaign, gearing, upcoming, election]                      |\n",
            "|The football team has been training hard for the upcoming season       |[football, team, training, hard, upcoming, season]                       |[footbal, team, train, hard, upcom, season]                  |[football, team, training, hard, upcoming, season]                      |\n",
            "|International relations are being discussed in diplomatic meetings     |[international, relations, discussed, diplomatic, meetings]              |[intern, relat, discuss, diplomat, meet]                     |[international, relation, discussed, diplomatic, meeting]               |\n",
            "|The president addressed the nation in a live broadcast                 |[president, addressed, nation, live, broadcast]                          |[presid, address, nation, live, broadcast]                   |[president, addressed, nation, live, broadcast]                         |\n",
            "|Tennis players are practicing for the grand slam matches               |[tennis, players, practicing, grand, slam, matches]                      |[tenni, player, practic, grand, slam, match]                 |[tennis, player, practicing, grand, slam, match]                        |\n",
            "|Machine learning has revolutionized the way data is processed          |[machine, learning, revolutionized, way, data, processed]                |[machin, learn, revolution, way, data, process]              |[machine, learning, revolutionized, way, data, processed]               |\n",
            "|Stock trading has become a popular way to build wealth                 |[stock, trading, become, popular, way, build, wealth]                    |[stock, trade, becom, popular, way, build, wealth]           |[stock, trading, become, popular, way, build, wealth]                   |\n",
            "|5G technology is expected to significantly improve communication speeds|[5g, technology, expected, significantly, improve, communication, speeds]|[5g, technolog, expect, significantli, improv, commun, speed]|[5g, technology, expected, significantly, improve, communication, speed]|\n",
            "|Political campaigns are gearing up for the upcoming elections          |[political, campaigns, gearing, upcoming, elections]                     |[polit, campaign, gear, upcom, elect]                        |[political, campaign, gearing, upcoming, election]                      |\n",
            "|Machine learning has revolutionized the way data is processed          |[machine, learning, revolutionized, way, data, processed]                |[machin, learn, revolution, way, data, process]              |[machine, learning, revolutionized, way, data, processed]               |\n",
            "|Investors are looking for high-yield bonds in the current market       |[investors, looking, high-yield, bonds, current, market]                 |[investor, look, high-yield, bond, current, market]          |[investor, looking, high-yield, bond, current, market]                  |\n",
            "|Quantum computing holds promise for solving complex problems           |[quantum, computing, holds, promise, solving, complex, problems]         |[quantum, comput, hold, promis, solv, complex, problem]      |[quantum, computing, hold, promise, solving, complex, problem]          |\n",
            "|Cloud computing is becoming increasingly important for businesses      |[cloud, computing, becoming, increasingly, important, businesses]        |[cloud, comput, becom, increasingli, import, busi]           |[cloud, computing, becoming, increasingly, important, business]         |\n",
            "|The Formula 1 race track is set to host the next grand prix            |[formula, 1, race, track, set, host, next, grand, prix]                  |[formula, 1, race, track, set, host, next, grand, prix]      |[formula, 1, race, track, set, host, next, grand, prix]                 |\n",
            "|Financial experts are advising on diversifying investment portfolios   |[financial, experts, advising, diversifying, investment, portfolios]     |[financi, expert, advis, diversifi, invest, portfolio]       |[financial, expert, advising, diversifying, investment, portfolio]      |\n",
            "|Stock trading has become a popular way to build wealth                 |[stock, trading, become, popular, way, build, wealth]                    |[stock, trade, becom, popular, way, build, wealth]           |[stock, trading, become, popular, way, build, wealth]                   |\n",
            "|Stock trading has become a popular way to build wealth                 |[stock, trading, become, popular, way, build, wealth]                    |[stock, trade, becom, popular, way, build, wealth]           |[stock, trading, become, popular, way, build, wealth]                   |\n",
            "+-----------------------------------------------------------------------+-------------------------------------------------------------------------+-------------------------------------------------------------+------------------------------------------------------------------------+\n",
            "only showing top 20 rows\n",
            "\n"
          ]
        }
      ]
    },
    {
      "cell_type": "code",
      "source": [
        "# Compute TF-IDF After Preprocessing\n",
        "# Apply HashingTF to the lemmatized words\n",
        "hashingTF = HashingTF(inputCol=\"lemmatized_words\", outputCol=\"raw_features\", numFeatures=500)\n",
        "df = hashingTF.transform(df)\n",
        "\n",
        "# Compute IDF\n",
        "idf = IDF(inputCol=\"raw_features\", outputCol=\"features\")\n",
        "idf_model = idf.fit(df)\n",
        "df = idf_model.transform(df)\n",
        "\n",
        "# Show TF-IDF Features\n",
        "df.select(\"text\", \"features\").show(truncate=False)"
      ],
      "metadata": {
        "colab": {
          "base_uri": "https://localhost:8080/"
        },
        "id": "kgCfzp74q-wC",
        "outputId": "118dc935-5589-42e0-f64e-31a4f8826e25"
      },
      "execution_count": 9,
      "outputs": [
        {
          "output_type": "stream",
          "name": "stdout",
          "text": [
            "+-----------------------------------------------------------------------+---------------------------------------------------------------------------------------------------------------------------------------------------------------------------------------------------------------------+\n",
            "|text                                                                   |features                                                                                                                                                                                                             |\n",
            "+-----------------------------------------------------------------------+---------------------------------------------------------------------------------------------------------------------------------------------------------------------------------------------------------------------+\n",
            "|Cloud computing is becoming increasingly important for businesses      |(500,[13,287,345,374,467,480],[2.3353749158170367,2.3353749158170367,2.0476928433652555,2.3353749158170367,2.3353749158170367,2.3353749158170367])                                                                   |\n",
            "|Basketball players are preparing for the next tournament               |(500,[63,104,243,273,367],[2.740840023925201,1.488077055429833,2.740840023925201,2.0476928433652555,2.740840023925201])                                                                                              |\n",
            "|Machine learning has revolutionized the way data is processed          |(500,[40,65,72,195,360,391],[1.0360919316867758,1.824549292051046,1.824549292051046,1.824549292051046,1.824549292051046,1.3545456628053103])                                                                         |\n",
            "|Political campaigns are gearing up for the upcoming elections          |(500,[40,132,175,435,461],[1.0360919316867758,1.824549292051046,1.824549292051046,1.824549292051046,1.824549292051046])                                                                                              |\n",
            "|The football team has been training hard for the upcoming season       |(500,[38,40,104,125,358,468],[2.3353749158170367,1.0360919316867758,1.488077055429833,2.3353749158170367,2.3353749158170367,2.3353749158170367])                                                                     |\n",
            "|International relations are being discussed in diplomatic meetings     |(500,[20,60,188,208,479],[2.0476928433652555,2.3353749158170367,2.3353749158170367,2.3353749158170367,2.3353749158170367])                                                                                           |\n",
            "|The president addressed the nation in a live broadcast                 |(500,[14,244,251,306,493],[1.824549292051046,2.740840023925201,2.740840023925201,2.740840023925201,2.740840023925201])                                                                                               |\n",
            "|Tennis players are practicing for the grand slam matches               |(500,[90,94,104,226,293,456],[1.236762627148927,2.0476928433652555,1.488077055429833,2.0476928433652555,1.488077055429833,2.0476928433652555])                                                                       |\n",
            "|Machine learning has revolutionized the way data is processed          |(500,[40,65,72,195,360,391],[1.0360919316867758,1.824549292051046,1.824549292051046,1.824549292051046,1.824549292051046,1.3545456628053103])                                                                         |\n",
            "|Stock trading has become a popular way to build wealth                 |(500,[14,90,148,293,391,490],[1.824549292051046,2.473525254297854,2.0476928433652555,1.488077055429833,1.3545456628053103,2.0476928433652555])                                                                       |\n",
            "|5G technology is expected to significantly improve communication speeds|(500,[20,143,164,171,292,408,482],[2.0476928433652555,2.740840023925201,2.740840023925201,2.740840023925201,2.740840023925201,2.740840023925201,2.740840023925201])                                                  |\n",
            "|Political campaigns are gearing up for the upcoming elections          |(500,[40,132,175,435,461],[1.0360919316867758,1.824549292051046,1.824549292051046,1.824549292051046,1.824549292051046])                                                                                              |\n",
            "|Machine learning has revolutionized the way data is processed          |(500,[40,65,72,195,360,391],[1.0360919316867758,1.824549292051046,1.824549292051046,1.824549292051046,1.824549292051046,1.3545456628053103])                                                                         |\n",
            "|Investors are looking for high-yield bonds in the current market       |(500,[147,157,189,232,248,436],[2.740840023925201,2.3353749158170367,2.740840023925201,2.740840023925201,2.740840023925201,2.740840023925201])                                                                       |\n",
            "|Quantum computing holds promise for solving complex problems           |(500,[53,56,198,333,345,355,389],[2.740840023925201,2.740840023925201,2.740840023925201,2.740840023925201,2.0476928433652555,2.740840023925201,2.740840023925201])                                                   |\n",
            "|Cloud computing is becoming increasingly important for businesses      |(500,[13,287,345,374,467,480],[2.3353749158170367,2.3353749158170367,2.0476928433652555,2.3353749158170367,2.3353749158170367,2.3353749158170367])                                                                   |\n",
            "|The Formula 1 race track is set to host the next grand prix            |(500,[90,95,102,273,342,413,431,452,454],[1.236762627148927,2.3353749158170367,2.3353749158170367,2.0476928433652555,2.3353749158170367,2.3353749158170367,2.3353749158170367,2.3353749158170367,2.3353749158170367])|\n",
            "|Financial experts are advising on diversifying investment portfolios   |(500,[62,93,161,178,407,414],[2.3353749158170367,2.3353749158170367,2.3353749158170367,2.3353749158170367,2.3353749158170367,2.3353749158170367])                                                                    |\n",
            "|Stock trading has become a popular way to build wealth                 |(500,[14,90,148,293,391,490],[1.824549292051046,2.473525254297854,2.0476928433652555,1.488077055429833,1.3545456628053103,2.0476928433652555])                                                                       |\n",
            "|Stock trading has become a popular way to build wealth                 |(500,[14,90,148,293,391,490],[1.824549292051046,2.473525254297854,2.0476928433652555,1.488077055429833,1.3545456628053103,2.0476928433652555])                                                                       |\n",
            "+-----------------------------------------------------------------------+---------------------------------------------------------------------------------------------------------------------------------------------------------------------------------------------------------------------+\n",
            "only showing top 20 rows\n",
            "\n"
          ]
        }
      ]
    },
    {
      "cell_type": "code",
      "source": [
        "#Step 5: Train & Evaluate Logistic Regression Classifier\n",
        "\n",
        "# Convert category labels to numerical labels\n",
        "indexer = StringIndexer(inputCol=\"category\", outputCol=\"label\")\n",
        "df = indexer.fit(df).transform(df)\n",
        "df.select(\"category\", \"label\").distinct().show()\n",
        "# Split Data\n",
        "train_data, test_data = df.randomSplit([0.8, 0.2], seed=42)\n",
        "\n",
        "# Train Logistic Regression Model\n",
        "lr = LogisticRegression(featuresCol=\"features\", labelCol=\"label\")\n",
        "lr_model = lr.fit(train_data)\n",
        "\n",
        "# Predictions\n",
        "predictions = lr_model.transform(test_data)\n",
        "predictions.select(\"text\", \"category\", \"prediction\").show(truncate=False)\n",
        "\n",
        "# Evaluate Model Accuracy\n",
        "evaluator = MulticlassClassificationEvaluator(labelCol=\"label\", predictionCol=\"prediction\", metricName=\"accuracy\")\n",
        "accuracy_tf_idf = evaluator.evaluate(predictions)\n",
        "print(f\"TF-IDF Model Accuracy: {accuracy_tf_idf:.2f}\")"
      ],
      "metadata": {
        "colab": {
          "base_uri": "https://localhost:8080/"
        },
        "id": "6JTJoNG4rPaR",
        "outputId": "1a69fdf4-8815-413a-c69a-8e5422c41558"
      },
      "execution_count": 10,
      "outputs": [
        {
          "output_type": "stream",
          "name": "stdout",
          "text": [
            "+----------+-----+\n",
            "|  category|label|\n",
            "+----------+-----+\n",
            "|    Sports|  0.0|\n",
            "|  Politics|  3.0|\n",
            "|   Finance|  2.0|\n",
            "|Technology|  1.0|\n",
            "+----------+-----+\n",
            "\n",
            "+--------------------------------------------------------------------+----------+----------+\n",
            "|text                                                                |category  |prediction|\n",
            "+--------------------------------------------------------------------+----------+----------+\n",
            "|Machine learning has revolutionized the way data is processed       |Technology|1.0       |\n",
            "|The president addressed the nation in a live broadcast              |Politics  |2.0       |\n",
            "|Machine learning has revolutionized the way data is processed       |Technology|1.0       |\n",
            "|Investors are looking for high-yield bonds in the current market    |Finance   |2.0       |\n",
            "|Cloud computing is becoming increasingly important for businesses   |Technology|1.0       |\n",
            "|International relations are being discussed in diplomatic meetings  |Politics  |3.0       |\n",
            "|The Formula 1 race track is set to host the next grand prix         |Sports    |0.0       |\n",
            "|Financial experts are advising on diversifying investment portfolios|Finance   |2.0       |\n",
            "+--------------------------------------------------------------------+----------+----------+\n",
            "\n",
            "TF-IDF Model Accuracy: 0.88\n"
          ]
        }
      ]
    },
    {
      "cell_type": "code",
      "source": [
        "#Train Word2Vec Model\n",
        "#import Word2Vec\n",
        "from pyspark.ml.feature import Word2Vec # Import Word2Vec here\n",
        "word2Vec = Word2Vec(vectorSize=100, minCount=1, inputCol=\"lemmatized_words\", outputCol=\"featuresW2Vector\")\n",
        "word2Vec_model = word2Vec.fit(df)\n",
        "df = word2Vec_model.transform(df)\n",
        "\n",
        "df.select(\"text\", \"featuresW2Vector\").show(truncate=False)"
      ],
      "metadata": {
        "colab": {
          "base_uri": "https://localhost:8080/"
        },
        "id": "N7GdQMrHrS-h",
        "outputId": "68368502-363e-4db0-ede0-3dba89354e16"
      },
      "execution_count": 11,
      "outputs": [
        {
          "output_type": "stream",
          "name": "stdout",
          "text": [
            "+-----------------------------------------------------------------------+----------------------------------------------------------------------------------------------------------------------------------------------------------------------------------------------------------------------------------------------------------------------------------------------------------------------------------------------------------------------------------------------------------------------------------------------------------------------------------------------------------------------------------------------------------------------------------------------------------------------------------------------------------------------------------------------------------------------------------------------------------------------------------------------------------------------------------------------------------------------------------------------------------------------------------------------------------------------------------------------------------------------------------------------------------------------------------------------------------------------------------------------------------------------------------------------------------------------------------------------------------------------------------------------------------------------------------------------------------------------------------------------------------------------------------------------------------------------------------------------------------------------------------------------------------------------------------------------------------------------------------------------------------------------------------------------------------------------------------------------------------------------------------------------------------------------------------------------------------------------------------------------------------------------------------------------------------------------------------------------------------------------------------------------------------------------------------------------------------------------------------------------------------------------------------------------------------------------------------------------------------------------------------------+\n",
            "|text                                                                   |featuresW2Vector                                                                                                                                                                                                                                                                                                                                                                                                                                                                                                                                                                                                                                                                                                                                                                                                                                                                                                                                                                                                                                                                                                                                                                                                                                                                                                                                                                                                                                                                                                                                                                                                                                                                                                                                                                                                                                                                                                                                                                                                                                                                                                                                                                                                                                                                        |\n",
            "+-----------------------------------------------------------------------+----------------------------------------------------------------------------------------------------------------------------------------------------------------------------------------------------------------------------------------------------------------------------------------------------------------------------------------------------------------------------------------------------------------------------------------------------------------------------------------------------------------------------------------------------------------------------------------------------------------------------------------------------------------------------------------------------------------------------------------------------------------------------------------------------------------------------------------------------------------------------------------------------------------------------------------------------------------------------------------------------------------------------------------------------------------------------------------------------------------------------------------------------------------------------------------------------------------------------------------------------------------------------------------------------------------------------------------------------------------------------------------------------------------------------------------------------------------------------------------------------------------------------------------------------------------------------------------------------------------------------------------------------------------------------------------------------------------------------------------------------------------------------------------------------------------------------------------------------------------------------------------------------------------------------------------------------------------------------------------------------------------------------------------------------------------------------------------------------------------------------------------------------------------------------------------------------------------------------------------------------------------------------------------+\n",
            "|Cloud computing is becoming increasingly important for businesses      |[1.770566984002168E-4,0.002699430420761928,-1.1542113497853279E-4,-7.822812767699361E-4,0.001421947681289263,5.332211088292145E-4,6.748186560798786E-4,-9.03114986916383E-4,-0.001245900547170701,3.8558064261451364E-5,-0.0011225556954741478,1.969479490071535E-4,-0.0018383682375618566,0.001272304468632986,-0.0011873258869551742,-7.713019925480087E-4,-9.622964231918255E-5,0.0036914938245899975,0.0017776153593634565,-9.971123411863421E-5,-0.0015741425255934396,0.002003516693851755,0.0017216706182807684,-6.309044741404553E-4,-6.927288874673346E-5,3.454608377069235E-4,-4.553813681316872E-4,0.0013448978619029124,-0.0011653549493833755,0.0012907214986626059,1.4346014359034598E-4,-0.0010965317730248594,0.00111228305225571,5.022662323123465E-4,0.0013788279320579022,-2.785924940932697E-4,-6.949676026124507E-4,8.58004478989945E-4,-6.145164370536804E-4,-3.364085763071974E-4,-0.0015062266829772852,-5.022584227845073E-4,5.830108226897816E-4,3.1029520808563876E-4,4.2214304752026993E-4,1.5206026243201146E-4,0.0017787647811928764,0.001401419581573767,3.8845704330014996E-4,-0.00140183210169198,-3.2949698288575746E-4,-4.6934287335413194E-4,-9.509202015275756E-4,-8.755401941016316E-4,-0.0017768047012699146,2.8491947644700605E-4,0.0019502255987996855,-0.0013068430416751653,-2.265852332736055E-4,-5.078504133659104E-4,-0.003004576448195924,-9.464474948496596E-4,-9.614663455674114E-4,2.4998091491094476E-4,-0.002396966185187921,0.0012288617823893824,-4.96495473877682E-4,-3.410790814086795E-4,-0.002492241192764292,-3.4186052895771957E-4,-0.0020601911625514426,9.746214491315186E-4,0.0020042593823745847,-0.00151527583754311,-0.0011581000871956348,-0.0016398492346828182,-0.0011876363035601873,-5.706883287833382E-5,6.474870242527686E-4,-0.0016225027890565493,-0.0015214465383905917,0.0010187711450271308,-4.117219456626723E-5,-7.883828366175294E-4,-0.002427743941855927,5.066280039803435E-4,-0.001675628445809707,0.0015130524601166446,-7.198073387068386E-4,0.0013020159773683795,3.9088179861816264E-4,-0.001178209165421625,-0.0016227304780234892,-6.456042465288192E-4,-0.0012334563070908189,0.0010604195995256305,8.741120109334588E-5,-0.0010632335955354695,2.1890717713783184E-4,6.906338870370139E-4]  |\n",
            "|Basketball players are preparing for the next tournament               |[0.0036728519247844816,0.00104621613281779,2.9163877479732037E-4,4.411205649375916E-4,4.851690144278109E-4,9.59431496448815E-4,3.683972536236979E-4,1.6166297718882562E-4,1.2140284525230527E-4,-0.0013824696419760586,-0.0012039491324685515,4.858921281993389E-4,0.0021501817258467782,0.0021121122408658266,2.3962727282196284E-4,0.001063991611590609,4.183477722108364E-5,0.0029133531905245038,1.0212621418759227E-5,-6.244510877877474E-4,-0.0012546823592856527,-7.671049796044827E-4,-7.542046601884067E-4,7.260861864779145E-4,0.001200814312323928,-5.4335151799023154E-5,-9.667893173173071E-5,-8.271832251921297E-4,1.721530454233289E-4,0.0013204515911638738,-8.209374151192606E-4,0.002438079100102186,-5.28606295119971E-4,0.0011194667778909207,0.0010506242280825973,-6.995408330112696E-6,-9.68111923430115E-4,6.688868394121528E-4,0.0011134215397760273,-7.559803314507008E-4,-8.680854924023152E-4,-7.600572193041445E-4,-4.5684370561502877E-4,-0.0018405334092676641,3.200646140612662E-4,0.0021210473962128165,0.003258636163081974,6.839291192591191E-4,6.927782669663429E-4,-0.0013370505999773742,0.0013105962425470352,-0.001339744101278484,2.3075074423104525E-4,-0.001767545787151903,-0.0014927733456715942,-1.242981292307377E-4,-6.265715695917607E-4,0.001543075143126771,-9.565509390085936E-5,-9.163506096228958E-4,6.154205417260528E-4,4.1971944738179446E-4,3.5655254032462835E-4,-8.771316148340702E-4,-0.001472490909509361,0.0028166357893496755,0.0025283567083533853,4.3245069682598116E-4,0.0017106950806919487,3.0880607664585114E-4,6.765589525457472E-4,0.001253680477384478,0.0025374321528943257,-0.002081463672220707,0.0012772055430104957,0.002139523587538861,8.250775979831815E-4,2.2910240804776552E-4,0.0016489394824020565,-8.962198742665351E-4,-0.0027349007315933707,-2.910986775532365E-4,-7.46908478322439E-4,5.176517530344427E-4,0.0018430936383083464,0.002245208531530807,2.8646174323512243E-4,0.0025992505019530655,0.00215295716188848,6.528367463033647E-4,-0.0017972208675928415,-2.1982175530865788E-4,3.98574594873935E-4,5.48164825886488E-4,-0.0015974000969436021,0.0011848426423966885,-3.275211434811354E-4,-1.3199620880186558E-4,0.0012502188794314862,-0.0015695894486270846]                      |\n",
            "|Machine learning has revolutionized the way data is processed          |[-6.991325644776225E-4,0.0011458680285916973,-2.0617252933637548E-4,-0.0014578903598400452,-0.0015209597622742876,-8.805500571421968E-4,-7.600282357695202E-4,-3.5690278552162147E-4,-0.0017066821698487424,0.001050679168353478,6.066450732760131E-4,1.0982205276377499E-4,-3.553014054584006E-4,0.0019130364332037666,1.950881657345841E-5,-0.0017773458578934271,0.0024114209615315,-3.7988847786133795E-4,-9.537486742677477E-4,0.0014627751273413498,5.526993966971834E-5,-0.002988615946378559,-0.0015806941470752158,-4.466959265603994E-4,-0.0017391879907033094,-5.801100414828397E-4,-3.0374308698810637E-4,-1.8159994700302679E-4,2.761403884505853E-4,-3.887373022735119E-4,0.0010164645500481129,-5.497112967229137E-4,-7.505847946352635E-4,0.003126047250892346,-9.603218253081043E-5,-0.0014382660738192499,0.0015983655660723646,-4.375046313119431E-4,-0.001646788363965849,0.0022759183775633574,0.002084145021702473,-6.477207255860169E-4,9.540140357178946E-4,6.491580861620605E-4,5.787179591910292E-4,-0.003294390703861912,0.0017374639282934368,-5.029044308078785E-4,-4.337671901642655E-4,-0.00250732420439211,5.216765421209857E-4,-0.0016261360918482144,-5.024747224524617E-4,2.5584201648598537E-4,0.0016288586436227583,0.0017353373890121777,-0.0012118580343667418,-6.203043643229951E-4,0.0016945698541045808,0.001294191073005398,-3.584227718723317E-4,-0.0011414268907780447,-5.429735950504739E-4,3.911151385788495E-4,-0.0017528366443002596,-7.802168450628717E-4,-0.001146968783965955,0.0019360510074572326,-1.9315629348663302E-4,2.870075889707853E-4,-6.437290382261077E-4,0.001375746937507453,-0.0012795613535369435,-6.579126566066407E-4,-0.0013994226950065543,-0.0011945135690136035,3.197085461579263E-4,5.043855441423754E-4,-3.203209004520128E-4,-0.0018058336475708832,-0.001017365837469697,0.0021110178592304387,0.001526950451079756,-5.320317541190889E-4,0.002346551530839254,-0.0011410149842655906,0.002262286473220835,0.001161744837493946,-2.7287310028138256E-4,-0.0010928750270977616,0.0017004504625219852,-5.169999979746838E-4,0.001532969259036084,6.152379858879915E-4,0.0010653635836206377,-0.0036100438446737826,4.6865653712302446E-4,-2.6043475372716784E-4,-7.512249624899898E-4,-8.123529648097853E-4]|\n",
            "|Political campaigns are gearing up for the upcoming elections          |[-3.740531014045701E-4,-0.0016111758188344539,0.0013745957548962906,-0.0025335987447761,4.6437208075076345E-4,-0.001553538953885436,-0.001340782770421356,-0.0012160664889961483,2.690171590074897E-4,-4.406173946335912E-4,7.763190311379731E-4,-0.0018549205618910492,0.003151829028502107,5.169460084289313E-4,0.0022938650683499875,-8.675176446558908E-4,-0.0013640291872434318,2.5426901411265137E-4,0.0011082229553721846,-0.0028502690198365602,-0.0010761656798422337,1.2470101937651635E-4,0.0010448439978063106,8.421257138252259E-4,8.474995120195672E-4,8.494886860717088E-4,0.0027378282276913526,-0.0016355694038793446,-6.242978386580945E-4,9.275090415030718E-4,6.739387252309826E-4,-0.0013606006046757103,7.611977867782116E-4,-8.33448360208422E-4,3.613252192735672E-5,-0.0016115607810206713,4.922727181110531E-4,-0.0013048222521319986,2.1192922722548249E-4,-3.1760297715663913E-4,0.0023606457340065393,3.4997347975149754E-4,-8.473977621179075E-4,0.001364173978799954,-1.4322379138320684E-4,5.995651230477962E-4,-0.0016592739895713749,-2.94950557872653E-4,0.0021360058104619383,-9.964174823835492E-4,-7.074481574818492E-4,6.653872318565846E-4,8.966554130893201E-4,-0.001200102409347892,-9.119580849073828E-4,0.0023651488590985537,0.0018790265545248987,0.0012299943482503295,-2.32746044639498E-4,0.0014307168545201422,-1.6232284251600505E-4,-0.0020629555030609484,7.591535482788459E-4,2.0710348617285492E-4,7.347498089075089E-4,0.002598379319533706,2.4813739873934536E-4,-0.001245269412174821,0.0011460110545158386,-7.952356711030007E-4,8.354740653885529E-4,-0.001278342865407467,-4.380377824418247E-4,6.126896711066365E-4,0.0019407329382374883,4.3517698068171743E-4,-0.0017949053086340429,-0.0018069748446578162,0.0024664958007633688,-2.506998949684203E-4,5.708339609554969E-4,0.001322073768824339,-3.456817474216223E-4,0.0034052481409162284,-0.0015820275875739753,-0.00184187589911744,-7.810588227584958E-4,-0.002470231102779508,-0.001564555591903627,-6.82230107486248E-4,-0.0019525243667885663,2.621335050207563E-4,0.0013656942668603734,3.465727553702891E-4,-2.539594497648068E-4,-0.001229568963753991,-0.0017733588116243483,-3.6159688606858255E-4,0.0015884336084127427,-8.595714461989701E-4]          |\n",
            "|The football team has been training hard for the upcoming season       |[0.0019741121892972537,7.949201923717434E-4,0.0016464350822692115,-9.645220416132361E-4,0.001312199577417535,-0.003127965183618168,-3.7453278976803023E-4,-5.247187509667128E-4,3.540866988866279E-4,-0.002846455405233428,-9.010227513499558E-4,6.881005635174612E-4,-2.4430804963534075E-4,8.755841263337061E-4,-8.603387201825777E-4,0.0019285967755422462,1.1158759783332546E-4,-6.433360977098346E-4,3.9272039430215955E-4,0.0012323923292569816,-3.0637076997663826E-4,6.733796665988241E-4,9.382438687074075E-4,-1.2563568695137897E-4,-0.001068598551986118,-4.1109203690818197E-4,-4.1787955948772526E-4,-6.007491804969807E-4,-0.0033960336780486005,8.374656996844957E-4,5.99044879587988E-4,-0.0014538828496976444,1.6493673744359208E-4,9.304102786700241E-4,-0.0011716775479726493,0.002025620905139173,-0.0010993372125085443,-0.0012377843765231469,-0.0013903113140258938,0.0021302881262575584,0.0012281385716050863,0.0010958558996208012,9.203963175726433E-4,1.4666970552449735E-4,1.6165085253305733E-4,-0.0017491288608653122,-0.001098949578590691,9.126012252333263E-4,0.001871552124309043,-8.88168283078509E-4,1.5631925392275053E-4,-0.0013891019819614787,-4.149212666864817E-4,8.594926524286468E-4,4.7639707918278873E-4,-4.216830323760708E-4,-5.173106231571485E-4,0.0012327661097515374,1.2432433625993627E-4,-0.0017909586895257235,-0.0018989633729991813,-2.477577654644847E-4,-0.0010664292300740876,7.159811211749911E-4,-3.8326338593227166E-4,-0.0011851065307079502,-4.6693710222219426E-4,-0.00195663565925012,-0.0013516803349678714,-0.0016697540413588285,-6.114741081546526E-4,1.3932608999311924E-4,-3.154010725362847E-4,4.940643557347357E-4,-7.611221226397902E-4,-2.1052706142654642E-4,3.9856376436849433E-4,0.002199569054937456,2.459398626039425E-4,0.001645021877872447,-3.8601530832238495E-4,8.09354101268885E-4,-1.5597688131189594E-4,-2.3096896863232055E-6,-3.910417750982257E-4,-0.002166792163431334,-0.0014906865641629943,0.0010186268967421104,-0.002062919782474637,0.002462246222421527,1.557505820528604E-4,-3.186643007211387E-4,0.0010535292191586145,0.0011757763180260856,-5.229417001828551E-4,4.443765404478957E-4,6.294222839642316E-4,-7.236648283045117E-4,3.583229845389724E-4,-0.0010554891778156161] |\n",
            "|International relations are being discussed in diplomatic meetings     |[-5.815970944240689E-4,-0.0010402559826616197,0.0014234617119655013,0.001240249472903088,6.190912856254727E-4,-0.0014132136711850762,-0.001164885493926704,0.001859993109246716,5.389753147028387E-4,2.0960722758900374E-4,9.490145312156529E-5,3.152862074784935E-4,-3.901585005223751E-4,-0.0011912808404304087,-7.047321108984762E-4,0.0015926348743960262,-0.0013787099160254002,-7.528340793214738E-4,3.6602284671971574E-4,1.7643920800765046E-4,-6.06136431451887E-4,-0.0020880822092294695,8.807084988802672E-4,-7.4159819632768634E-6,-1.7678466974757612E-4,4.5305518433451657E-4,0.0010180407902225853,0.00114408894587541,-9.613431058824063E-4,9.940267773345113E-5,3.879871335811913E-4,0.0012439754340448418,-5.142715875990689E-4,0.002152630826458335,-0.0014041765709407628,-0.0010292598977684976,-0.0012030724086798728,0.0016351653030142188,0.002353679481893778,9.803373890463264E-4,6.955396384000778E-4,9.894705843180418E-4,2.3665695916861296E-4,-0.0019473543390631676,-1.692894846200943E-4,-6.91217789426446E-4,0.0014814377296715976,0.002112965169362724,0.001679727784357965,0.001810468384064734,-4.187608719803393E-5,7.845696469303221E-4,-4.6174811432138086E-4,-0.0016574798384681344,-0.0016487222164869308,-6.541789276525378E-4,5.279173608869315E-4,-0.0018393500708043576,0.00254702172242105,-7.588115986436606E-5,1.027197577059269E-4,1.908800841192715E-4,-0.0019242798327468336,-0.0015946114319376648,-0.0014507489278912545,5.851559049915523E-4,0.0018212219467386604,-8.487099781632424E-4,-9.089936036616564E-4,0.0029200292890891434,8.456327952444554E-4,-1.4908662997186186E-4,0.0024794543627649547,-0.002302801888436079,-4.182209260761738E-4,1.6475492157042026E-5,0.0027810921659693123,0.0028831722913309934,5.06579363718629E-4,-7.61670689098537E-4,-1.8752635660348462E-4,-0.0022145858616568147,-0.0018559228134108709,0.002517568395705894,-4.137647105380893E-4,4.993518261471764E-4,-8.606483461335302E-5,0.0026905028498731554,6.910655181854964E-4,-0.0018670558056328446,-9.733815328218043E-4,-0.0013241505715996028,-2.7354154735803607E-5,-9.802114684134722E-4,-5.492061842232943E-4,5.897212075069547E-4,-5.266556981950999E-5,0.0010354522150009871,-0.001283711928408593,0.001933870790526271]           |\n",
            "|The president addressed the nation in a live broadcast                 |[-5.800246522994712E-4,-0.0016589553328230978,0.0015563238703180104,9.476275183260441E-4,-4.768448416143656E-5,2.7004554867744447E-4,2.5253617204725745E-4,1.858697331044823E-4,0.0024399624089710414,-3.369025478605181E-4,0.0015844938578084113,-2.6448268909007314E-5,1.8126026261597872E-4,-5.773292214144021E-4,-9.825610322877765E-5,0.0020279818447306755,1.9414396956563E-5,6.489012448582799E-5,2.3917689977679402E-4,-0.0010201320808846503,-5.679184629116208E-4,0.0015059644589200617,-0.003154131246265024,0.002238979213871062,1.865074154920876E-4,0.0013698047172510997,0.0014104102388955654,-2.75099313876126E-4,-6.540121888974682E-4,6.41169457230717E-4,2.625641063787043E-5,-0.0010700710816308856,-3.9224695356097076E-4,0.0011161857517436146,0.0013338895863853396,0.0014967758324928582,0.001126800721976906,0.0014345656847581268,7.760853492072784E-4,-0.0010562284354818986,7.156645751820179E-4,0.0010170682857278735,-9.971046471036972E-4,-2.303590124938637E-4,0.001672060275450349,-1.140743013820611E-4,0.0014522652374580503,-0.0018549971573520452,-0.002759339101612568,-6.232631858438253E-5,8.335547521710397E-4,0.0021006475435569882,1.5444660093635323E-4,0.0014933738160834765,-0.002057796693406999,0.0015465766889974477,0.0015975975897163154,-0.0016450545517727733,5.705864285118879E-4,3.0220672488212585E-4,-9.903375175781548E-4,-0.0016843121469719336,2.7380390092730523E-4,0.001543694012798369,6.541861221194267E-5,-2.481484552845359E-4,0.001581350073684007,2.0262025063857438E-4,1.4634394319728018E-4,0.002019620779901743,1.226805616170168E-5,0.0021697831340134143,-0.0011442527640610934,-3.083752701058984E-4,0.001246144826291129,-0.0011743158218450846,0.0017582362634129822,0.0019590857875300574,1.7012896132655443E-4,-0.0023189236875623465,0.002384903491474688,2.3855476174503565E-4,-0.0018946684955153616,-7.990431680809707E-4,-9.529296425171197E-4,1.0870881378650666E-4,-3.017890732735396E-4,0.001141732360702008,-6.226750556379557E-5,-0.0017974175512790681,0.0011496936465846374,0.0017527565127238632,-8.877869695425034E-4,-0.0016499778255820276,-0.0016855969966854901,9.626969665987418E-4,-0.0013939444674178959,-0.0012225147103890777,-2.734044217504561E-4,-3.637750982306898E-4]        |\n",
            "|Tennis players are practicing for the grand slam matches               |[-9.904147979492942E-5,5.862227323329231E-4,-3.7506523707027856E-4,-0.0014215622019643583,9.252317443800469E-4,3.8361411619310576E-4,-9.054901214161266E-4,2.7819032159944374E-5,0.002358806668780744,-6.804979445102314E-4,-5.883744937212516E-4,9.049962585171063E-4,7.985395980843653E-4,0.0013099037363038708,-8.925536336998144E-4,3.808468269805113E-4,-0.0011153445423891146,0.001294147228084815,-0.001261833143265297,-9.218906634487212E-4,-8.230813400587067E-4,-7.067828943642477E-4,6.163648795336485E-4,-7.409362721470339E-5,-0.0012479108245315729,-0.0013726418061802783,-2.6888652549435693E-4,-0.001084110400067099,0.0016190466412808746,0.0026237736456096172,-0.001060096384511174,6.293432864670951E-4,-9.78839088929817E-4,3.5062280464141316E-4,-2.4240463972091675E-5,-0.002418124524410814,4.8699558343893534E-4,0.0011194943072041497,0.0012764858547598124,-4.356792972733577E-4,-7.069429072240988E-4,-0.0033089972372787693,-0.0012325937083611884,0.0012621006292950672,1.7692400918652612E-4,-1.6882329752358297E-4,-2.1390837112752098E-4,3.257307495611409E-4,8.136846881825477E-4,-0.0031671119835057953,9.288766984051714E-4,-0.0016351350786862895,-0.0016923263319768012,4.582802066579461E-4,-9.109809434448835E-4,-0.0016897724708542228,0.0012332156960231562,0.0014461306394271862,0.0026009562231289842,0.0016210224906293054,0.0013876799882079163,0.0012669041486030133,0.0015129441235330887,3.862986535144349E-4,-2.95747867009292E-4,0.001844206604194672,1.2328248703852296E-4,0.0015489745419472456,0.002984540769830346,-4.876199721669157E-4,5.488440171272183E-4,4.022232606075704E-4,6.844974122941494E-4,0.0014520841650664806,0.0015387025147598856,0.001970066621045892,-3.7370226345956326E-4,-4.2052222246032517E-4,-4.054384868747244E-4,-0.0011209356986607113,0.0012010921297284463,8.977754720641921E-4,-3.9231703946522123E-4,-0.0034290410694666207,-0.001226054252280543,4.979401546734152E-4,-0.001481357185790936,-0.0024835828614110747,-9.712830117981259E-4,3.657987399492413E-4,1.9172665391427773E-4,3.469595006511857E-4,8.3677533257287E-4,-0.0014739800244569778,8.180594013538212E-4,-6.044168961428416E-4,-6.0386470674226676E-6,3.189118239485348E-4,0.001375932750913004,-0.0013474877438663193]       |\n",
            "|Machine learning has revolutionized the way data is processed          |[-6.991325644776225E-4,0.0011458680285916973,-2.0617252933637548E-4,-0.0014578903598400452,-0.0015209597622742876,-8.805500571421968E-4,-7.600282357695202E-4,-3.5690278552162147E-4,-0.0017066821698487424,0.001050679168353478,6.066450732760131E-4,1.0982205276377499E-4,-3.553014054584006E-4,0.0019130364332037666,1.950881657345841E-5,-0.0017773458578934271,0.0024114209615315,-3.7988847786133795E-4,-9.537486742677477E-4,0.0014627751273413498,5.526993966971834E-5,-0.002988615946378559,-0.0015806941470752158,-4.466959265603994E-4,-0.0017391879907033094,-5.801100414828397E-4,-3.0374308698810637E-4,-1.8159994700302679E-4,2.761403884505853E-4,-3.887373022735119E-4,0.0010164645500481129,-5.497112967229137E-4,-7.505847946352635E-4,0.003126047250892346,-9.603218253081043E-5,-0.0014382660738192499,0.0015983655660723646,-4.375046313119431E-4,-0.001646788363965849,0.0022759183775633574,0.002084145021702473,-6.477207255860169E-4,9.540140357178946E-4,6.491580861620605E-4,5.787179591910292E-4,-0.003294390703861912,0.0017374639282934368,-5.029044308078785E-4,-4.337671901642655E-4,-0.00250732420439211,5.216765421209857E-4,-0.0016261360918482144,-5.024747224524617E-4,2.5584201648598537E-4,0.0016288586436227583,0.0017353373890121777,-0.0012118580343667418,-6.203043643229951E-4,0.0016945698541045808,0.001294191073005398,-3.584227718723317E-4,-0.0011414268907780447,-5.429735950504739E-4,3.911151385788495E-4,-0.0017528366443002596,-7.802168450628717E-4,-0.001146968783965955,0.0019360510074572326,-1.9315629348663302E-4,2.870075889707853E-4,-6.437290382261077E-4,0.001375746937507453,-0.0012795613535369435,-6.579126566066407E-4,-0.0013994226950065543,-0.0011945135690136035,3.197085461579263E-4,5.043855441423754E-4,-3.203209004520128E-4,-0.0018058336475708832,-0.001017365837469697,0.0021110178592304387,0.001526950451079756,-5.320317541190889E-4,0.002346551530839254,-0.0011410149842655906,0.002262286473220835,0.001161744837493946,-2.7287310028138256E-4,-0.0010928750270977616,0.0017004504625219852,-5.169999979746838E-4,0.001532969259036084,6.152379858879915E-4,0.0010653635836206377,-0.0036100438446737826,4.6865653712302446E-4,-2.6043475372716784E-4,-7.512249624899898E-4,-8.123529648097853E-4]|\n",
            "|Stock trading has become a popular way to build wealth                 |[-0.0020361998384552343,-2.2643940922405036E-4,-4.230985484485115E-4,-0.0011426621349528432,-1.51293194254062E-4,-2.0211961236782372E-4,-3.02264400358711E-4,0.0013300938964156167,-7.38252153886216E-4,-9.226155192923864E-5,-0.0011897841135838202,-6.476190922382687E-4,-6.513682144161846E-4,4.911690484732389E-4,4.1608446710077776E-4,2.9167032334953547E-4,0.002444475007775639,-0.002260400797240436,-3.263776223840458E-4,6.303091857781899E-4,1.4993740478530526E-5,4.870186011040849E-4,-0.001784903778960662,-4.036642245150038E-5,-0.002582221824143614,-0.002674678639907922,7.831617674258138E-4,-2.7865035060260974E-4,-0.0011348910026884238,2.628971103279452E-4,-6.393977528205141E-4,-0.0024975650428262137,-9.754951960141105E-4,5.266968208681126E-4,7.735380703317267E-4,8.314218471891113E-4,0.0014055229340946035,-0.001409889930593116,9.401538076677492E-4,-4.802338122057595E-4,-2.859796430649502E-4,-0.0011362989212752187,8.82401513600988E-4,0.0019112788307081375,6.030982642966722E-4,5.34159318444186E-4,2.5040409361411415E-4,-8.656929421704262E-4,-5.353560970563974E-4,-0.001579740858038089,-0.001064406188171623,9.639456402510405E-4,0.0010209285704019877,-0.0012919854738616518,0.0026578677186210238,5.869601695199629E-4,0.0023754757795748965,0.002008561175119082,0.0010519383732961224,-6.610231274472815E-4,8.428869436361959E-4,9.892935631796718E-4,-4.549882308180843E-4,-8.733770612577375E-4,-1.0967550562262268E-4,0.0011098250023288917,0.003906495752744377,5.729085200333169E-4,2.980607584634396E-4,-4.539409003752683E-4,5.129644435198445E-4,-2.923440354477082E-4,-1.5323570862944637E-4,0.001219330305632736,0.001470034788196374,-5.4087456581848005E-5,-0.0013589842045413595,-0.0012679541832767427,-9.808248640703302E-4,6.963202280790677E-4,3.642155456223658E-4,0.002224521412115012,7.231182950947965E-4,-0.0016665545034421872,-8.276161554801677E-4,1.1978171200358441E-4,9.886283078230917E-5,-9.131847348596368E-5,3.8256857078522444E-4,0.001101850315795413,0.0013480937019007147,-2.1343029428473007E-4,-8.842304042835686E-4,-6.840226706117392E-4,0.0012978177817006195,-3.484934235789946E-4,-1.2090572688196386E-4,8.010101779031434E-4,6.625305728188583E-4,-0.0018013464037462004]                 |\n",
            "|5G technology is expected to significantly improve communication speeds|[-2.099715472598161E-4,-8.388786393749927E-4,-8.178050900044451E-4,-0.0027631941733748783,-5.602952234247433E-4,0.0017516963291979793,-0.0010537598448406372,-9.524600796534546E-4,-7.61070754379034E-4,0.0016681274615361222,0.0028966828914625303,-5.1291393382208685E-5,-7.940490364230104E-5,0.0018146941854086304,-0.002677423879504204,0.0012522611733792083,-4.3136751836365353E-4,0.0011542184178584389,8.690566184148858E-5,-0.0013524148962460458,-7.828752277418971E-4,0.0013871502971077071,4.657390569004097E-4,7.849658390374055E-4,-9.130781462382791E-4,-0.0010444690955669752,-9.422541645887707E-4,-0.0023198815012749814,-4.151863561544035E-4,-4.6918575286066953E-4,-6.825101071236921E-4,-6.65955594740808E-5,-3.799390217734201E-4,0.00262956232264904,0.0012580353442379938,-3.8093606209648503E-4,2.0754447073808736E-4,0.0011228346265852451,-0.0014693262471285249,-0.0014810380692194614,2.017306479891496E-4,-0.0021466000055495116,9.60937634642635E-5,-6.869322054886391E-4,-1.5811993008745567E-4,5.45968296916856E-4,0.002131683502479323,0.0017041346623695322,-0.0013713651236944965,-0.001153731469197997,0.0011512416780793241,1.3526230551568524E-4,-5.582174552338464E-5,8.463158862598772E-4,0.00270640424319676,-4.314824140497616E-5,0.0012773395709310923,6.858029436053974E-4,-1.4022283721715212E-4,-3.2682249937871736E-4,-0.001372007852686303,-8.543958288750478E-5,-0.0014275794216830815,8.685926773718425E-4,8.023418985041124E-4,0.0014893958193299892,0.001673836527126176,-0.0016337359473774474,0.0014385466264294725,-1.3475688008059348E-4,-3.425569406577519E-4,-3.128118488738047E-4,-0.0016055626329034567,8.227253316103347E-5,-7.381253329055783E-4,0.001743543132241549,6.963885181383894E-4,2.922514021130545E-4,2.1308872549395474E-4,-9.486704199974025E-4,0.0012979730132168957,-2.903958749292152E-4,-3.3198825881949494E-4,-0.0013159426328326973,0.001188804434994901,-8.013278877894793E-4,-3.3565051022118757E-4,3.7036616621272903E-4,-7.25305697415024E-4,-9.140260850212403E-4,0.001114443618072463,0.001685735788279479,-0.00156525380277474,-2.8847555430339914E-4,0.0015309799554026019,2.1525842436988438E-4,-0.0018285992721627864,1.03905115143529E-4,0.0016080571471580435,6.345909122111541E-4]      |\n",
            "|Political campaigns are gearing up for the upcoming elections          |[-3.740531014045701E-4,-0.0016111758188344539,0.0013745957548962906,-0.0025335987447761,4.6437208075076345E-4,-0.001553538953885436,-0.001340782770421356,-0.0012160664889961483,2.690171590074897E-4,-4.406173946335912E-4,7.763190311379731E-4,-0.0018549205618910492,0.003151829028502107,5.169460084289313E-4,0.0022938650683499875,-8.675176446558908E-4,-0.0013640291872434318,2.5426901411265137E-4,0.0011082229553721846,-0.0028502690198365602,-0.0010761656798422337,1.2470101937651635E-4,0.0010448439978063106,8.421257138252259E-4,8.474995120195672E-4,8.494886860717088E-4,0.0027378282276913526,-0.0016355694038793446,-6.242978386580945E-4,9.275090415030718E-4,6.739387252309826E-4,-0.0013606006046757103,7.611977867782116E-4,-8.33448360208422E-4,3.613252192735672E-5,-0.0016115607810206713,4.922727181110531E-4,-0.0013048222521319986,2.1192922722548249E-4,-3.1760297715663913E-4,0.0023606457340065393,3.4997347975149754E-4,-8.473977621179075E-4,0.001364173978799954,-1.4322379138320684E-4,5.995651230477962E-4,-0.0016592739895713749,-2.94950557872653E-4,0.0021360058104619383,-9.964174823835492E-4,-7.074481574818492E-4,6.653872318565846E-4,8.966554130893201E-4,-0.001200102409347892,-9.119580849073828E-4,0.0023651488590985537,0.0018790265545248987,0.0012299943482503295,-2.32746044639498E-4,0.0014307168545201422,-1.6232284251600505E-4,-0.0020629555030609484,7.591535482788459E-4,2.0710348617285492E-4,7.347498089075089E-4,0.002598379319533706,2.4813739873934536E-4,-0.001245269412174821,0.0011460110545158386,-7.952356711030007E-4,8.354740653885529E-4,-0.001278342865407467,-4.380377824418247E-4,6.126896711066365E-4,0.0019407329382374883,4.3517698068171743E-4,-0.0017949053086340429,-0.0018069748446578162,0.0024664958007633688,-2.506998949684203E-4,5.708339609554969E-4,0.001322073768824339,-3.456817474216223E-4,0.0034052481409162284,-0.0015820275875739753,-0.00184187589911744,-7.810588227584958E-4,-0.002470231102779508,-0.001564555591903627,-6.82230107486248E-4,-0.0019525243667885663,2.621335050207563E-4,0.0013656942668603734,3.465727553702891E-4,-2.539594497648068E-4,-0.001229568963753991,-0.0017733588116243483,-3.6159688606858255E-4,0.0015884336084127427,-8.595714461989701E-4]          |\n",
            "|Machine learning has revolutionized the way data is processed          |[-6.991325644776225E-4,0.0011458680285916973,-2.0617252933637548E-4,-0.0014578903598400452,-0.0015209597622742876,-8.805500571421968E-4,-7.600282357695202E-4,-3.5690278552162147E-4,-0.0017066821698487424,0.001050679168353478,6.066450732760131E-4,1.0982205276377499E-4,-3.553014054584006E-4,0.0019130364332037666,1.950881657345841E-5,-0.0017773458578934271,0.0024114209615315,-3.7988847786133795E-4,-9.537486742677477E-4,0.0014627751273413498,5.526993966971834E-5,-0.002988615946378559,-0.0015806941470752158,-4.466959265603994E-4,-0.0017391879907033094,-5.801100414828397E-4,-3.0374308698810637E-4,-1.8159994700302679E-4,2.761403884505853E-4,-3.887373022735119E-4,0.0010164645500481129,-5.497112967229137E-4,-7.505847946352635E-4,0.003126047250892346,-9.603218253081043E-5,-0.0014382660738192499,0.0015983655660723646,-4.375046313119431E-4,-0.001646788363965849,0.0022759183775633574,0.002084145021702473,-6.477207255860169E-4,9.540140357178946E-4,6.491580861620605E-4,5.787179591910292E-4,-0.003294390703861912,0.0017374639282934368,-5.029044308078785E-4,-4.337671901642655E-4,-0.00250732420439211,5.216765421209857E-4,-0.0016261360918482144,-5.024747224524617E-4,2.5584201648598537E-4,0.0016288586436227583,0.0017353373890121777,-0.0012118580343667418,-6.203043643229951E-4,0.0016945698541045808,0.001294191073005398,-3.584227718723317E-4,-0.0011414268907780447,-5.429735950504739E-4,3.911151385788495E-4,-0.0017528366443002596,-7.802168450628717E-4,-0.001146968783965955,0.0019360510074572326,-1.9315629348663302E-4,2.870075889707853E-4,-6.437290382261077E-4,0.001375746937507453,-0.0012795613535369435,-6.579126566066407E-4,-0.0013994226950065543,-0.0011945135690136035,3.197085461579263E-4,5.043855441423754E-4,-3.203209004520128E-4,-0.0018058336475708832,-0.001017365837469697,0.0021110178592304387,0.001526950451079756,-5.320317541190889E-4,0.002346551530839254,-0.0011410149842655906,0.002262286473220835,0.001161744837493946,-2.7287310028138256E-4,-0.0010928750270977616,0.0017004504625219852,-5.169999979746838E-4,0.001532969259036084,6.152379858879915E-4,0.0010653635836206377,-0.0036100438446737826,4.6865653712302446E-4,-2.6043475372716784E-4,-7.512249624899898E-4,-8.123529648097853E-4]|\n",
            "|Investors are looking for high-yield bonds in the current market       |[3.4656130689351505E-4,2.3823192653556664E-5,6.202637317376987E-4,-6.031706846745994E-4,-0.001943881667102687,-9.537771887456377E-4,-6.592161177347103E-5,-0.0020527029895068454,-0.0010302083367908683,9.752014351154987E-4,-6.49620060964177E-4,2.9019336216151714E-4,9.631313023419352E-4,0.001739128395759811,8.051356271607801E-4,-2.962013240903616E-6,0.0014540868966529765,0.001298045147753631,-2.1941036296387512E-4,2.2911272390047088E-4,-0.002500742530780068,0.0017271046963287517,5.976191023364663E-4,-5.146228650119156E-4,2.096071160243203E-4,-4.090416672018667E-4,-5.269250032142736E-4,9.792187678006787E-4,-0.0017356582829961553,5.191552821391572E-4,0.0020195083537449436,-3.447328635957092E-4,-7.794676930643618E-4,-6.450820559014876E-4,-6.764874948809544E-4,1.275800362539788E-4,-7.62260480162998E-4,-4.530469498907526E-4,0.0016705073163999864,-0.002441877906676382,-0.0010794604410572597,3.1199345175991766E-4,0.0013668913452420384,8.190548202643791E-4,-2.2395587317684354E-4,-0.0011508216072494784,8.395152108278126E-4,0.001465179942897521,1.9418983720242977E-4,-0.0017106919161354501,0.0018252180307172239,-7.35009671188891E-5,1.341064538185795E-4,-9.026038363420714E-5,7.338678915402852E-4,0.0020810574448357024,-0.0012600484575765827,-3.738324473185154E-4,-9.123846151245136E-4,0.0011851591940891617,0.0010196660732617602,5.714047947549261E-4,-2.121072611771524E-6,3.869460585216681E-4,8.26922778893883E-4,9.355364503183712E-4,-0.0016216734948102385,-7.512886222684756E-4,-0.0013788873135733106,-8.137140976032242E-4,-3.5331444390370353E-4,-6.898718905479957E-4,-0.001515000049645702,-2.1994732863580185E-4,0.0012418280821293592,0.001360845713255306,3.2888309215195477E-4,-0.0015104785027991359,-6.191593517238895E-4,-0.0019481583246185132,0.0010880643191436925,-6.553577307689313E-4,0.0011653548766237993,3.166836880457898E-4,-4.0318899361106253E-4,0.0020207981481992947,0.002079543618795772,-8.698804522282444E-4,4.3219313374720514E-4,-0.0019428089532690742,-0.0014634044588698694,-6.631341335984567E-4,0.0011925025610253215,-7.620992352409909E-4,0.0010361610620748252,0.0011433893717670192,-0.0013721359428018332,9.078276343643665E-4,1.043429171356062E-4,-0.002598029532843308]         |\n",
            "|Quantum computing holds promise for solving complex problems           |[7.684520548666893E-4,-8.831996819935739E-4,-3.6952378494398933E-4,5.9193983075342E-4,1.1113878956946011E-5,-2.8046100175872974E-4,-7.09043483116797E-5,3.153957493071045E-4,-6.714783875005585E-4,6.426315688128982E-4,-5.749265962679471E-4,0.0012922832102049142,-0.0017028490463936966,4.403718963398465E-4,-6.387141599719014E-4,-4.780248605779239E-4,-4.862327062125717E-4,3.1694304198026657E-4,9.306886599266103E-4,-7.445232352308397E-4,-6.824697900031294E-4,-6.659491669519671E-4,-0.0014086512406460575,-0.0015917702486538993,2.796295198744961E-4,3.6671722773462534E-4,-5.255582509562373E-4,0.0019250488507428338,-6.850147162497576E-4,-0.0022506948277753376,-1.0797769729314105E-4,-3.1605590109912943E-4,4.2306433273811957E-4,1.1789309792220592E-4,0.0016200538760001238,8.412242085406822E-4,6.969660587076629E-6,7.744127069599926E-4,3.0545245057770183E-4,7.10377627651074E-4,8.61412803975067E-4,0.0016148530142215478,-9.459989710843989E-4,-0.0016959432645567824,-9.739097606922899E-4,0.001686335279373452,-6.59501612452524E-4,5.909888672509363E-4,-9.451186883130243E-4,8.263809722848237E-4,-6.491660564539155E-4,-6.528091949543782E-4,0.0010275505649458084,-7.497495555851076E-4,-7.131208881868847E-4,2.1364415832587317E-4,9.940097765398345E-4,-0.00230685350418623,3.413205517322889E-4,-4.5267288805916905E-4,-0.0013077601407920675,8.02190916147083E-4,-0.0010344921777557048,-0.0013538098012629363,-0.0016511435553963694,0.002895317688983466,-3.9474166961943926E-4,0.0023144645134120113,-0.0028348885077450954,-0.0014758351587391058,-0.0013504395610652864,3.5473424525532337E-4,0.0012725473040648336,-9.664578278066723E-4,7.396891846188476E-4,2.9815419423227595E-4,-2.153371419158897E-4,1.2346865592657453E-4,0.001560372277578738,1.498746486114604E-4,-6.404004608547048E-4,0.0013848874368704855,-3.887720252220918E-4,-5.376669619831123E-4,-3.128944247561906E-4,9.245576802641153E-4,4.909973358735442E-4,-9.813035638736825E-4,0.0011877088316915821,4.1281685740354333E-4,-2.685897717518466E-4,6.368455443797366E-4,-2.9270578774490526E-4,-1.9703876958893877E-4,4.1901142269905123E-5,-2.89755457613085E-4,-0.0014063930388406982,-2.0035841901387485E-4,8.092962920532694E-4,3.383277216926217E-4]             |\n",
            "|Cloud computing is becoming increasingly important for businesses      |[1.770566984002168E-4,0.002699430420761928,-1.1542113497853279E-4,-7.822812767699361E-4,0.001421947681289263,5.332211088292145E-4,6.748186560798786E-4,-9.03114986916383E-4,-0.001245900547170701,3.8558064261451364E-5,-0.0011225556954741478,1.969479490071535E-4,-0.0018383682375618566,0.001272304468632986,-0.0011873258869551742,-7.713019925480087E-4,-9.622964231918255E-5,0.0036914938245899975,0.0017776153593634565,-9.971123411863421E-5,-0.0015741425255934396,0.002003516693851755,0.0017216706182807684,-6.309044741404553E-4,-6.927288874673346E-5,3.454608377069235E-4,-4.553813681316872E-4,0.0013448978619029124,-0.0011653549493833755,0.0012907214986626059,1.4346014359034598E-4,-0.0010965317730248594,0.00111228305225571,5.022662323123465E-4,0.0013788279320579022,-2.785924940932697E-4,-6.949676026124507E-4,8.58004478989945E-4,-6.145164370536804E-4,-3.364085763071974E-4,-0.0015062266829772852,-5.022584227845073E-4,5.830108226897816E-4,3.1029520808563876E-4,4.2214304752026993E-4,1.5206026243201146E-4,0.0017787647811928764,0.001401419581573767,3.8845704330014996E-4,-0.00140183210169198,-3.2949698288575746E-4,-4.6934287335413194E-4,-9.509202015275756E-4,-8.755401941016316E-4,-0.0017768047012699146,2.8491947644700605E-4,0.0019502255987996855,-0.0013068430416751653,-2.265852332736055E-4,-5.078504133659104E-4,-0.003004576448195924,-9.464474948496596E-4,-9.614663455674114E-4,2.4998091491094476E-4,-0.002396966185187921,0.0012288617823893824,-4.96495473877682E-4,-3.410790814086795E-4,-0.002492241192764292,-3.4186052895771957E-4,-0.0020601911625514426,9.746214491315186E-4,0.0020042593823745847,-0.00151527583754311,-0.0011581000871956348,-0.0016398492346828182,-0.0011876363035601873,-5.706883287833382E-5,6.474870242527686E-4,-0.0016225027890565493,-0.0015214465383905917,0.0010187711450271308,-4.117219456626723E-5,-7.883828366175294E-4,-0.002427743941855927,5.066280039803435E-4,-0.001675628445809707,0.0015130524601166446,-7.198073387068386E-4,0.0013020159773683795,3.9088179861816264E-4,-0.001178209165421625,-0.0016227304780234892,-6.456042465288192E-4,-0.0012334563070908189,0.0010604195995256305,8.741120109334588E-5,-0.0010632335955354695,2.1890717713783184E-4,6.906338870370139E-4]  |\n",
            "|The Formula 1 race track is set to host the next grand prix            |[7.859510498949223E-4,1.7472543549956754E-4,6.409302198638518E-4,8.568368502892554E-4,3.59961556063758E-4,1.6821407674190897E-4,0.0013344039875341372,-6.477988095462528E-4,7.936714732244986E-4,-1.8060086100983122E-4,-0.001186225847050082,0.001330830699468303,-0.0014535395473810947,0.0014051972409813767,0.001406087564343276,-0.0011953607253316375,-4.3519967908246647E-4,0.0019387870755357046,-3.1252242883460387E-4,8.579812808117518E-4,-8.641841155218167E-4,0.0019916200480009946,0.0014086517169036798,-8.357024764538639E-4,3.899231410792304E-4,7.887132233008742E-4,-0.0013826574011343634,-0.0010570590190278986,0.0012120296677393424,5.453964565984077E-4,-0.002192909143761628,-6.101156015776925E-4,-0.0012943145702593029,-6.533163800162987E-4,5.848435426337851E-4,-3.029421463401781E-4,-0.0013619246439904801,-6.032671501290881E-4,5.61297450783766E-4,8.424352272413671E-4,2.771089202724397E-4,-3.2137851748201583E-4,9.503279903179241E-4,-0.0014425064728129655,-2.1180831956573657E-4,-1.564404358052545E-4,0.0010875049952624573,6.572820097466724E-4,0.0010519647686224845,-0.0013284413564381085,-0.0015239426930848921,0.0018926635089479126,4.7352363859924174E-4,-2.7584250912898115E-4,1.9689744658535346E-4,-8.839284225056568E-4,-0.0013480080459784302,0.0022600421167832487,0.0013723953678790065,-9.37348373958634E-4,0.0021760976644347664,9.249843327173342E-4,-5.482437667928429E-4,2.6537168176016875E-4,-6.059150297611874E-4,0.001288662905507307,-4.3176753711628E-4,-5.314141550722221E-4,0.0016886601612592735,-0.0011470576411940984,-2.511171268350962E-4,6.275857255483667E-4,-8.385147731233802E-4,-0.0014799277496422292,0.0016225397638562652,9.664463060390618E-5,9.963931208605773E-5,-6.788012146393561E-4,-6.02514893721996E-4,0.0024044242584043076,-3.9178716380976967E-4,-0.0021995813585817814,-6.402179456522895E-5,-0.0015397968624408045,6.068156411250432E-4,6.583666106760373E-4,2.879118902557012E-4,2.8273245617229905E-4,0.0014179927950155817,-0.0013512024888768792,-1.5391624118718834E-4,-2.6607566461380984E-4,-9.544633535875214E-5,0.0012666976371191493,0.001005263821651978,0.001607483699141691,-0.0015844190881277123,0.0012397527591221861,6.235820344752736E-4,-5.658623619334927E-4]        |\n",
            "|Financial experts are advising on diversifying investment portfolios   |[0.0010544006587830759,-0.001508532208390534,-4.343243199400604E-4,-0.0024134241102728993,6.016470918742318E-4,-0.002127921829620997,0.0018902505398727953,0.0012742893013637513,1.2162405861696848E-4,0.0012083885812899098,0.002358540679172923,0.0012036618039322395,0.0014041693163259574,0.0010074214078485966,-7.521491109703977E-5,-6.87627825148714E-4,0.0024280036450363696,6.69404026363433E-4,-0.001279647911360371,-0.0012828450756690775,0.00190794868588758,-1.7094265967898536E-4,-9.386400924995542E-4,-1.4954071472554156E-4,-5.039999280901004E-4,0.001302274273863683,-0.0021778385271318257,0.0013024657334123426,-5.973655279376544E-4,-0.0013364033172062286,-4.171087415064297E-4,6.618188344873488E-4,-0.0012330904428381473,0.0015810710998872914,3.0746530198181665E-4,3.8525937513137854E-4,2.4408582733788836E-4,-8.976798562798649E-5,-0.001475622647073275,0.0013142504030838609,0.0011981673693905273,1.3832376377346614E-5,6.190947412202755E-5,0.0013917144630492353,-1.761853442682574E-4,-3.1925898535215913E-4,0.0025103707836630442,0.0028304456791374832,0.0011628234933596104,4.082376981386915E-4,5.386112413058678E-4,0.0019448441841329136,-1.2545167313267785E-4,0.0014333090027018138,4.668688585904116E-4,-0.002211402917358403,0.0018356003856752068,0.0024072105613110275,-2.548558210643629E-4,0.001842580910306424,2.1605013171210885E-4,8.55228262177358E-4,0.0014935886720195413,-0.0028233637276571244,-9.959987364709377E-4,6.303911019737521E-4,8.947768365032971E-4,7.941320072859526E-4,-0.0019309441437750743,0.0014150370067606368,-0.0028619160681652525,-0.0014242543353854367,-2.3929227609187365E-5,-0.0019934122101403773,-8.414315670961514E-4,3.0883809085935354E-4,-6.38105399654402E-4,-2.2756835096515715E-4,-4.6567244377608097E-4,0.0014544288666608431,-5.675754412853469E-4,8.409721922362223E-4,-0.0028852622296350696,-0.0010443229596906651,-6.152834442521755E-4,-0.0016779526292035976,0.001672964096845438,5.932056228630245E-5,-6.388241430007231E-5,6.126557224585364E-4,0.001212208163148413,0.002229452327204247,-0.0010222834486436718,0.001107091763212035,-7.381914765574038E-4,0.002731069582902516,0.0022846024755078056,0.0012543735247163568,-8.727744182882209E-4,-4.303866201856484E-4]      |\n",
            "|Stock trading has become a popular way to build wealth                 |[-0.0020361998384552343,-2.2643940922405036E-4,-4.230985484485115E-4,-0.0011426621349528432,-1.51293194254062E-4,-2.0211961236782372E-4,-3.02264400358711E-4,0.0013300938964156167,-7.38252153886216E-4,-9.226155192923864E-5,-0.0011897841135838202,-6.476190922382687E-4,-6.513682144161846E-4,4.911690484732389E-4,4.1608446710077776E-4,2.9167032334953547E-4,0.002444475007775639,-0.002260400797240436,-3.263776223840458E-4,6.303091857781899E-4,1.4993740478530526E-5,4.870186011040849E-4,-0.001784903778960662,-4.036642245150038E-5,-0.002582221824143614,-0.002674678639907922,7.831617674258138E-4,-2.7865035060260974E-4,-0.0011348910026884238,2.628971103279452E-4,-6.393977528205141E-4,-0.0024975650428262137,-9.754951960141105E-4,5.266968208681126E-4,7.735380703317267E-4,8.314218471891113E-4,0.0014055229340946035,-0.001409889930593116,9.401538076677492E-4,-4.802338122057595E-4,-2.859796430649502E-4,-0.0011362989212752187,8.82401513600988E-4,0.0019112788307081375,6.030982642966722E-4,5.34159318444186E-4,2.5040409361411415E-4,-8.656929421704262E-4,-5.353560970563974E-4,-0.001579740858038089,-0.001064406188171623,9.639456402510405E-4,0.0010209285704019877,-0.0012919854738616518,0.0026578677186210238,5.869601695199629E-4,0.0023754757795748965,0.002008561175119082,0.0010519383732961224,-6.610231274472815E-4,8.428869436361959E-4,9.892935631796718E-4,-4.549882308180843E-4,-8.733770612577375E-4,-1.0967550562262268E-4,0.0011098250023288917,0.003906495752744377,5.729085200333169E-4,2.980607584634396E-4,-4.539409003752683E-4,5.129644435198445E-4,-2.923440354477082E-4,-1.5323570862944637E-4,0.001219330305632736,0.001470034788196374,-5.4087456581848005E-5,-0.0013589842045413595,-0.0012679541832767427,-9.808248640703302E-4,6.963202280790677E-4,3.642155456223658E-4,0.002224521412115012,7.231182950947965E-4,-0.0016665545034421872,-8.276161554801677E-4,1.1978171200358441E-4,9.886283078230917E-5,-9.131847348596368E-5,3.8256857078522444E-4,0.001101850315795413,0.0013480937019007147,-2.1343029428473007E-4,-8.842304042835686E-4,-6.840226706117392E-4,0.0012978177817006195,-3.484934235789946E-4,-1.2090572688196386E-4,8.010101779031434E-4,6.625305728188583E-4,-0.0018013464037462004]                 |\n",
            "|Stock trading has become a popular way to build wealth                 |[-0.0020361998384552343,-2.2643940922405036E-4,-4.230985484485115E-4,-0.0011426621349528432,-1.51293194254062E-4,-2.0211961236782372E-4,-3.02264400358711E-4,0.0013300938964156167,-7.38252153886216E-4,-9.226155192923864E-5,-0.0011897841135838202,-6.476190922382687E-4,-6.513682144161846E-4,4.911690484732389E-4,4.1608446710077776E-4,2.9167032334953547E-4,0.002444475007775639,-0.002260400797240436,-3.263776223840458E-4,6.303091857781899E-4,1.4993740478530526E-5,4.870186011040849E-4,-0.001784903778960662,-4.036642245150038E-5,-0.002582221824143614,-0.002674678639907922,7.831617674258138E-4,-2.7865035060260974E-4,-0.0011348910026884238,2.628971103279452E-4,-6.393977528205141E-4,-0.0024975650428262137,-9.754951960141105E-4,5.266968208681126E-4,7.735380703317267E-4,8.314218471891113E-4,0.0014055229340946035,-0.001409889930593116,9.401538076677492E-4,-4.802338122057595E-4,-2.859796430649502E-4,-0.0011362989212752187,8.82401513600988E-4,0.0019112788307081375,6.030982642966722E-4,5.34159318444186E-4,2.5040409361411415E-4,-8.656929421704262E-4,-5.353560970563974E-4,-0.001579740858038089,-0.001064406188171623,9.639456402510405E-4,0.0010209285704019877,-0.0012919854738616518,0.0026578677186210238,5.869601695199629E-4,0.0023754757795748965,0.002008561175119082,0.0010519383732961224,-6.610231274472815E-4,8.428869436361959E-4,9.892935631796718E-4,-4.549882308180843E-4,-8.733770612577375E-4,-1.0967550562262268E-4,0.0011098250023288917,0.003906495752744377,5.729085200333169E-4,2.980607584634396E-4,-4.539409003752683E-4,5.129644435198445E-4,-2.923440354477082E-4,-1.5323570862944637E-4,0.001219330305632736,0.001470034788196374,-5.4087456581848005E-5,-0.0013589842045413595,-0.0012679541832767427,-9.808248640703302E-4,6.963202280790677E-4,3.642155456223658E-4,0.002224521412115012,7.231182950947965E-4,-0.0016665545034421872,-8.276161554801677E-4,1.1978171200358441E-4,9.886283078230917E-5,-9.131847348596368E-5,3.8256857078522444E-4,0.001101850315795413,0.0013480937019007147,-2.1343029428473007E-4,-8.842304042835686E-4,-6.840226706117392E-4,0.0012978177817006195,-3.484934235789946E-4,-1.2090572688196386E-4,8.010101779031434E-4,6.625305728188583E-4,-0.0018013464037462004]                 |\n",
            "+-----------------------------------------------------------------------+----------------------------------------------------------------------------------------------------------------------------------------------------------------------------------------------------------------------------------------------------------------------------------------------------------------------------------------------------------------------------------------------------------------------------------------------------------------------------------------------------------------------------------------------------------------------------------------------------------------------------------------------------------------------------------------------------------------------------------------------------------------------------------------------------------------------------------------------------------------------------------------------------------------------------------------------------------------------------------------------------------------------------------------------------------------------------------------------------------------------------------------------------------------------------------------------------------------------------------------------------------------------------------------------------------------------------------------------------------------------------------------------------------------------------------------------------------------------------------------------------------------------------------------------------------------------------------------------------------------------------------------------------------------------------------------------------------------------------------------------------------------------------------------------------------------------------------------------------------------------------------------------------------------------------------------------------------------------------------------------------------------------------------------------------------------------------------------------------------------------------------------------------------------------------------------------------------------------------------------------------------------------------------------+\n",
            "only showing top 20 rows\n",
            "\n"
          ]
        }
      ]
    },
    {
      "cell_type": "code",
      "source": [
        "# Split Data\n",
        "train_data_w2v, test_data_w2v = df.randomSplit([0.8, 0.2], seed=42)\n",
        "\n",
        "# Train Model\n",
        "lr_w2v = LogisticRegression(featuresCol=\"featuresW2Vector\", labelCol=\"label\")\n",
        "lr_w2v_model = lr_w2v.fit(train_data_w2v)\n",
        "\n",
        "# Predictions\n",
        "predictions_w2v = lr_w2v_model.transform(test_data_w2v)\n",
        "predictions_w2v.select(\"text\", \"category\", \"prediction\").show(truncate=False)\n",
        "\n",
        "# Evaluate Model Accuracy\n",
        "accuracy_w2v = evaluator.evaluate(predictions_w2v)\n",
        "print(f\"Word2Vec Model Accuracy: {accuracy_w2v:.2f}\")"
      ],
      "metadata": {
        "colab": {
          "base_uri": "https://localhost:8080/"
        },
        "id": "5e75FbAkrXth",
        "outputId": "165e1fb0-5d1f-4d56-c784-32d368ac5f87"
      },
      "execution_count": 12,
      "outputs": [
        {
          "output_type": "stream",
          "name": "stdout",
          "text": [
            "+--------------------------------------------------------------------+----------+----------+\n",
            "|text                                                                |category  |prediction|\n",
            "+--------------------------------------------------------------------+----------+----------+\n",
            "|Machine learning has revolutionized the way data is processed       |Technology|1.0       |\n",
            "|The president addressed the nation in a live broadcast              |Politics  |3.0       |\n",
            "|Machine learning has revolutionized the way data is processed       |Technology|1.0       |\n",
            "|Investors are looking for high-yield bonds in the current market    |Finance   |1.0       |\n",
            "|Cloud computing is becoming increasingly important for businesses   |Technology|1.0       |\n",
            "|International relations are being discussed in diplomatic meetings  |Politics  |3.0       |\n",
            "|The Formula 1 race track is set to host the next grand prix         |Sports    |0.0       |\n",
            "|Financial experts are advising on diversifying investment portfolios|Finance   |2.0       |\n",
            "+--------------------------------------------------------------------+----------+----------+\n",
            "\n",
            "Word2Vec Model Accuracy: 0.88\n"
          ]
        }
      ]
    }
  ]
}